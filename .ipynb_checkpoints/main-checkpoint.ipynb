{
 "cells": [
  {
   "cell_type": "code",
   "execution_count": 51,
   "metadata": {},
   "outputs": [
    {
     "name": "stdout",
     "output_type": "stream",
     "text": [
      "diphtheria\n",
      "(195, 45)\n",
      "measles\n",
      "(195, 45)\n",
      "mumps\n",
      "(179, 20)\n",
      "neonatal_tetanus\n",
      "(195, 45)\n",
      "tuberculosis\n",
      "(3275, 6)\n"
     ]
    }
   ],
   "source": [
    "# Import modules\n",
    "\n",
    "import helpers as h\n",
    "import pandas as pd\n",
    "import numpy as np\n",
    "import os\n",
    "\n",
    "# Load data\n",
    "for filename in os.listdir('./data/disease'):\n",
    "    if filename[0] != '.':\n",
    "        name = filename[:-4]\n",
    "        print(name)\n",
    "        name = pd.read_csv('./data/disease/' + filename)\n",
    "        print(name.shape)\n",
    "\n",
    "# diptheria = pd.read_csv('./data/disease/diphtheria.csv')\n",
    "# html = 'https://raw.githubusercontent.com/datasets/geo-countries/master/data/countries.geojson'\n",
    "# json_data = h.extract_json_html(html)\n",
    "\n"
   ]
  },
  {
   "cell_type": "code",
   "execution_count": 43,
   "metadata": {},
   "outputs": [
    {
     "ename": "NameError",
     "evalue": "name 'mumps' is not defined",
     "output_type": "error",
     "traceback": [
      "\u001b[0;31m---------------------------------------------------------------------------\u001b[0m",
      "\u001b[0;31mNameError\u001b[0m                                 Traceback (most recent call last)",
      "\u001b[0;32m<ipython-input-43-335245c5d95e>\u001b[0m in \u001b[0;36m<module>\u001b[0;34m()\u001b[0m\n\u001b[0;32m----> 1\u001b[0;31m \u001b[0mmumps\u001b[0m\u001b[0;34m.\u001b[0m\u001b[0mhead\u001b[0m\u001b[0;34m(\u001b[0m\u001b[0;34m)\u001b[0m\u001b[0;34m\u001b[0m\u001b[0m\n\u001b[0m",
      "\u001b[0;31mNameError\u001b[0m: name 'mumps' is not defined"
     ]
    }
   ],
   "source": [
    "mumps.head()"
   ]
  },
  {
   "cell_type": "code",
   "execution_count": null,
   "metadata": {},
   "outputs": [],
   "source": []
  }
 ],
 "metadata": {
  "kernelspec": {
   "display_name": "Python [conda env:ada]",
   "language": "python",
   "name": "conda-env-ada-py"
  },
  "language_info": {
   "codemirror_mode": {
    "name": "ipython",
    "version": 3
   },
   "file_extension": ".py",
   "mimetype": "text/x-python",
   "name": "python",
   "nbconvert_exporter": "python",
   "pygments_lexer": "ipython3",
   "version": "3.6.6"
  }
 },
 "nbformat": 4,
 "nbformat_minor": 2
}
